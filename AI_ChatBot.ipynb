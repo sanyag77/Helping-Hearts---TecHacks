{
  "nbformat": 4,
  "nbformat_minor": 0,
  "metadata": {
    "colab": {
      "provenance": [],
      "authorship_tag": "ABX9TyP0vmaV8GN4YAfFel4n/SWG",
      "include_colab_link": true
    },
    "kernelspec": {
      "name": "python3",
      "display_name": "Python 3"
    },
    "language_info": {
      "name": "python"
    }
  },
  "cells": [
    {
      "cell_type": "markdown",
      "metadata": {
        "id": "view-in-github",
        "colab_type": "text"
      },
      "source": [
        "<a href=\"https://colab.research.google.com/github/sanyag77/Helping-Hearts---TecHacks/blob/master/AI_ChatBot.ipynb\" target=\"_parent\"><img src=\"https://colab.research.google.com/assets/colab-badge.svg\" alt=\"Open In Colab\"/></a>"
      ]
    },
    {
      "cell_type": "code",
      "execution_count": 1,
      "metadata": {
        "colab": {
          "base_uri": "https://localhost:8080/"
        },
        "id": "E6zE02NlWvFG",
        "outputId": "1dd1cbe1-e1f0-4042-8f7a-373617330429"
      },
      "outputs": [
        {
          "output_type": "stream",
          "name": "stdout",
          "text": [
            "Requirement already satisfied: requests in /usr/local/lib/python3.10/dist-packages (2.32.3)\n",
            "Collecting pyfiglet\n",
            "  Downloading pyfiglet-1.0.2-py3-none-any.whl.metadata (7.1 kB)\n",
            "Requirement already satisfied: charset-normalizer<4,>=2 in /usr/local/lib/python3.10/dist-packages (from requests) (3.3.2)\n",
            "Requirement already satisfied: idna<4,>=2.5 in /usr/local/lib/python3.10/dist-packages (from requests) (3.7)\n",
            "Requirement already satisfied: urllib3<3,>=1.21.1 in /usr/local/lib/python3.10/dist-packages (from requests) (2.0.7)\n",
            "Requirement already satisfied: certifi>=2017.4.17 in /usr/local/lib/python3.10/dist-packages (from requests) (2024.7.4)\n",
            "Downloading pyfiglet-1.0.2-py3-none-any.whl (1.1 MB)\n",
            "\u001b[2K   \u001b[90m━━━━━━━━━━━━━━━━━━━━━━━━━━━━━━━━━━━━━━━━\u001b[0m \u001b[32m1.1/1.1 MB\u001b[0m \u001b[31m4.5 MB/s\u001b[0m eta \u001b[36m0:00:00\u001b[0m\n",
            "\u001b[?25hInstalling collected packages: pyfiglet\n",
            "Successfully installed pyfiglet-1.0.2\n"
          ]
        }
      ],
      "source": [
        "pip install requests pyfiglet"
      ]
    },
    {
      "cell_type": "code",
      "source": [
        "import requests\n",
        "import pyfiglet\n",
        "import itertools\n",
        "import threading\n",
        "import time\n",
        "import sys\n",
        "\n",
        "url = \"https://simple-chatgpt-api.p.rapidapi.com/ask\"\n",
        "\n",
        "\n",
        "headers = {\n",
        "    \"content-type\": \"application/json\",\n",
        "    \"X-RapidAPI-Key\": \"76091b8adamsh787291452def10bp1f9894jsnca13b585166c\",\n",
        "    \"X-RapidAPI-Host\": \"simple-chatgpt-api.p.rapidapi.com\"\n",
        "}\n",
        "\n",
        "\n",
        "def animate():\n",
        "    for c in itertools.cycle(['|', '/', '-', '\\\\']):\n",
        "        if done:\n",
        "            break\n",
        "        sys.stdout.write('\\r' + c)\n",
        "        sys.stdout.flush()\n",
        "        time.sleep(0.1)\n",
        "\n",
        "    # Clear the console output\n",
        "    sys.stdout.write('\\r')\n",
        "    sys.stdout.flush()\n",
        "\n",
        "\n",
        "def ask(question):\n",
        "    payload = {\"question\": question}\n",
        "    response = requests.post(url, json=payload, headers=headers)\n",
        "    return response.json().get(\"answer\")\n",
        "\n",
        "\n",
        "if __name__ == \"__main__\":\n",
        "    print(pyfiglet.figlet_format(\"AI Chat BOT\"))\n",
        "    print(\"Enter the question to ask:\")\n",
        "    print()\n",
        "    while True:\n",
        "        # print(\"/>>  \", end=\"\")\n",
        "        question = str(input(\">>  \"))\n",
        "        if (question == 'q'):\n",
        "            print(\">>  Bye! Thanks for Using...\")\n",
        "            break\n",
        "        # loading\n",
        "        done = False\n",
        "        # here is the animation\n",
        "        t = threading.Thread(target=animate)\n",
        "        t.start()\n",
        "        answer = ask(question)\n",
        "        time.sleep(5)\n",
        "        done = True\n",
        "        t.join()\n",
        "        print(\">> \", answer)\n",
        "        print()"
      ],
      "metadata": {
        "colab": {
          "base_uri": "https://localhost:8080/"
        },
        "id": "_r42a6q9W4iu",
        "outputId": "1f8040be-3c10-4022-9782-38a540aa43b9"
      },
      "execution_count": null,
      "outputs": [
        {
          "metadata": {
            "tags": null
          },
          "name": "stdout",
          "output_type": "stream",
          "text": [
            "    _    ___    ____ _           _     ____   ___ _____ \n",
            "   / \\  |_ _|  / ___| |__   __ _| |_  | __ ) / _ \\_   _|\n",
            "  / _ \\  | |  | |   | '_ \\ / _` | __| |  _ \\| | | || |  \n",
            " / ___ \\ | |  | |___| | | | (_| | |_  | |_) | |_| || |  \n",
            "/_/   \\_\\___|  \\____|_| |_|\\__,_|\\__| |____/ \\___/ |_|  \n",
            "                                                        \n",
            "\n",
            "Enter the question to ask:\n",
            "\n",
            ">>  I am an AI digital assistant and I do not have access to personal information about you, such as your age.\n",
            "\n",
            ">>  12\n",
            "\n",
            ">>  The moon was not discovered by a single person as it has been observed by humans for thousands of years. The earliest recorded observations of the moon can be traced back to ancient civilizations such as the Sumerians and Babylonians in the 3rd millennium BCE. Galileo Galilei was the first person known to have used a telescope to observe the moon in detail in the early 17th century.\n",
            "\n"
          ]
        }
      ]
    }
  ]
}